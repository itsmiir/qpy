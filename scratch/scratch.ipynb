{
 "cells": [
  {
   "cell_type": "code",
   "execution_count": 1,
   "id": "591876a2",
   "metadata": {},
   "outputs": [],
   "source": [
    "import numpy as np\n",
    "\n",
    "from qntpy import *\n",
    "from qntpy.constants.us import *\n",
    "from qntpy.constants.constants import g_0\n",
    "from qntpy.core.units import *\n",
    "from qntpy.core.quantity import Quantity\n",
    "from uncertainties.unumpy import uarray"
   ]
  },
  {
   "cell_type": "code",
   "execution_count": 2,
   "id": "a3bf42e4",
   "metadata": {},
   "outputs": [],
   "source": [
    "p_traction = 2525 * hp\n",
    "p_total = p_traction * 2\n",
    "grade = 0.02 * np.radians(90)\n",
    "r_wheel = 18 * inch\n",
    "v_train = 20 * mph"
   ]
  },
  {
   "cell_type": "code",
   "execution_count": 3,
   "id": "cb4d5607",
   "metadata": {},
   "outputs": [
    {
     "data": {
      "text/plain": [
       "1367351.066681573 kg"
      ]
     },
     "execution_count": 3,
     "metadata": {},
     "output_type": "execute_result"
    }
   ],
   "source": [
    "w_axle = v_train / r_wheel\n",
    "T_holding = p_total / w_axle\n",
    "F_train = T_holding / r_wheel\n",
    "F_weight = F_train / np.sin(grade)\n",
    "m_train = F_weight / g_0\n",
    "m_train"
   ]
  },
  {
   "cell_type": "code",
   "execution_count": null,
   "id": "8220044f",
   "metadata": {},
   "outputs": [
    {
     "data": {
      "text/plain": [
       "[2.0+/-0.01 0.0 0.0 0.0 0.0 0.0 2.0+/-0.01 0.0 0.0 0.0 0.0 0.0 2.0+/-0.01\n",
       " 0.0 0.0 0.0 0.0 0.0 2.0+/-0.01 0.0 0.0 0.0 0.0 0.0 2.0+/-0.01] m"
      ]
     },
     "execution_count": 4,
     "metadata": {},
     "output_type": "execute_result"
    }
   ],
   "source": [
    "# arr = uarray(np.random.rand(10, 2)*10, np.random.rand(10, 2))\n",
    "arr1 = np.eye(5)*2\n",
    "arr2 = np.eye(5) * 0.01\n",
    "q = uarray(arr1, arr2) * (m)\n",
    "# q2 = uarray(arr1, arr2) * kg\n",
    "# print(np.power(q, 3))\n",
    "np.abs"
   ]
  },
  {
   "cell_type": "code",
   "execution_count": 5,
   "id": "2397487a",
   "metadata": {},
   "outputs": [
    {
     "data": {
      "text/plain": [
       "m²"
      ]
     },
     "execution_count": 5,
     "metadata": {},
     "output_type": "execute_result"
    }
   ],
   "source": [
    "np.multiply(m, m)"
   ]
  }
 ],
 "metadata": {
  "kernelspec": {
   "display_name": "Python 3",
   "language": "python",
   "name": "python3"
  },
  "language_info": {
   "codemirror_mode": {
    "name": "ipython",
    "version": 3
   },
   "file_extension": ".py",
   "mimetype": "text/x-python",
   "name": "python",
   "nbconvert_exporter": "python",
   "pygments_lexer": "ipython3",
   "version": "3.10.12"
  }
 },
 "nbformat": 4,
 "nbformat_minor": 5
}
